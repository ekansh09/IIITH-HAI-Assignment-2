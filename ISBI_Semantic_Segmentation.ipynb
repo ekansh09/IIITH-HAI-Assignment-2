{
  "nbformat": 4,
  "nbformat_minor": 0,
  "metadata": {
    "accelerator": "GPU",
    "colab": {
      "name": "1. ISBI_Semantic_Segmentation.ipynb",
      "provenance": [],
      "collapsed_sections": [],
      "include_colab_link": true
    },
    "kernelspec": {
      "display_name": "Python 3",
      "name": "python3"
    },
    "language_info": {
      "name": "python"
    }
  },
  "cells": [
    {
      "cell_type": "markdown",
      "metadata": {
        "id": "view-in-github",
        "colab_type": "text"
      },
      "source": [
        "<a href=\"https://colab.research.google.com/github/ekansh09/IIITH-HAI-Assignment-2/blob/main/ISBI_Semantic_Segmentation.ipynb\" target=\"_parent\"><img src=\"https://colab.research.google.com/assets/colab-badge.svg\" alt=\"Open In Colab\"/></a>"
      ]
    },
    {
      "cell_type": "code",
      "metadata": {
        "id": "OdlLBmOPKmd2"
      },
      "source": [
        "import numpy as np\n",
        "import pandas as pd\n",
        "import os\n",
        "import cv2\n",
        "from PIL import Image\n",
        "from google.colab.patches import cv2_imshow\n",
        "from tqdm import tqdm\n",
        "import matplotlib.pyplot as plt\n",
        "%matplotlib inline\n",
        "import matplotlib.image as mpimg\n",
        "from keras.layers import Input, Conv2D, MaxPooling2D, Conv2DTranspose, concatenate, BatchNormalization, Activation, add\n",
        "from keras.models import Model, model_from_json\n",
        "from keras.optimizers import Adam\n",
        "from keras.layers.advanced_activations import ELU, LeakyReLU\n",
        "from keras.utils.vis_utils import plot_model\n",
        "from keras import backend as K \n",
        "from sklearn.model_selection import train_test_split\n",
        "from sklearn.metrics import classification_report\n",
        "import tensorflow as tf\n",
        "import tifffile as tiff\n",
        "from skimage.transform import resize"
      ],
      "execution_count": null,
      "outputs": []
    },
    {
      "cell_type": "markdown",
      "metadata": {
        "id": "hk-h6lYlxFaN"
      },
      "source": [
        "## Electron Microscopy Image (Dataset)\n",
        "\n",
        "\n",
        "---\n",
        "\n",
        "Serial section Transmission Electron Microscopy (ssTEM) Dataset"
      ]
    },
    {
      "cell_type": "code",
      "metadata": {
        "colab": {
          "base_uri": "https://localhost:8080/"
        },
        "id": "n5rKkuZBSBBw",
        "outputId": "66dd6558-e20f-43b7-8c1a-bcdadf2df8d5"
      },
      "source": [
        "from google.colab import drive\n",
        "drive.mount('/content/drive')"
      ],
      "execution_count": null,
      "outputs": [
        {
          "output_type": "stream",
          "text": [
            "Mounted at /content/drive\n"
          ],
          "name": "stdout"
        }
      ]
    },
    {
      "cell_type": "code",
      "metadata": {
        "id": "-Sz_5TR9LIWA"
      },
      "source": [
        "img_trn = tiff.imread('/content/drive/MyDrive/train-volume.tif')\n",
        "msk_trn = tiff.imread('/content/drive/MyDrive/train-labels.tif')"
      ],
      "execution_count": null,
      "outputs": []
    },
    {
      "cell_type": "markdown",
      "metadata": {
        "id": "zML6K7BBN-cV"
      },
      "source": [
        "## Pre-Processing"
      ]
    },
    {
      "cell_type": "code",
      "metadata": {
        "id": "kFTmFOdKhTrc"
      },
      "source": [
        "X_temp = []\n",
        "Y_temp = []\n",
        "\n",
        "for img,msk in zip(img_trn, msk_trn):\n",
        "    _img = resize(img, (256,256,1))\n",
        "    _msk = resize(msk, (256,256,1)).round()\n",
        "    X_temp.append(_img)\n",
        "    Y_temp.append(_msk)"
      ],
      "execution_count": null,
      "outputs": []
    },
    {
      "cell_type": "code",
      "metadata": {
        "colab": {
          "base_uri": "https://localhost:8080/"
        },
        "id": "4pR_cWYfLvl2",
        "outputId": "5c47a6e7-55ef-4896-ed71-edbbb291b508"
      },
      "source": [
        "print(len(X_temp))\n",
        "print(len(Y_temp))\n",
        "\n",
        "X = np.array(X_temp)\n",
        "Y = np.array(Y_temp)\n",
        "\n",
        "X_train, X_test, Y_train, Y_test = train_test_split(X, Y, test_size=0.2, random_state=0)\n",
        "\n",
        "# Y_train = Y_train.reshape((Y_train.shape[0],Y_train.shape[1],Y_train.shape[2],1))\n",
        "# Y_test = Y_test.reshape((Y_test.shape[0],Y_test.shape[1],Y_test.shape[2],1))\n",
        "\n",
        "\n",
        "# Y_train = Y_train / 255\n",
        "# Y_test = Y_test / 255\n",
        "\n",
        "# Y_train[Y_train > 0] = 1\n",
        "# Y_test[Y_test > 0] = 1\n",
        "\n",
        "# Y_train = np.round(Y_train,0)\t\n",
        "# Y_test = np.round(Y_test,0)\t\n",
        "\n",
        "print(X_train.shape)\n",
        "print(Y_train.shape)\n",
        "print(X_test.shape)\n",
        "print(Y_test.shape)"
      ],
      "execution_count": null,
      "outputs": [
        {
          "output_type": "stream",
          "text": [
            "30\n",
            "30\n",
            "(24, 256, 256, 1)\n",
            "(24, 256, 256, 1)\n",
            "(6, 256, 256, 1)\n",
            "(6, 256, 256, 1)\n"
          ],
          "name": "stdout"
        }
      ]
    },
    {
      "cell_type": "markdown",
      "metadata": {
        "id": "Z_sODmNHLti_"
      },
      "source": [
        "## MultiResUNet\n"
      ]
    },
    {
      "cell_type": "code",
      "metadata": {
        "id": "NVVNvxl4LviK"
      },
      "source": [
        "def conv2d_bn(x, filters, num_row, num_col, padding='same', strides=(1, 1), activation='relu', name=None):\n",
        "    x = Conv2D(filters, (num_row, num_col), strides=strides, padding=padding, use_bias=False)(x)\n",
        "    x = BatchNormalization( scale=False)(x)\n",
        "    if(activation == None):\n",
        "        return x\n",
        "    x = Activation(activation, name=name)(x)\n",
        "    return x"
      ],
      "execution_count": null,
      "outputs": []
    },
    {
      "cell_type": "code",
      "metadata": {
        "id": "HLxBIZKTMLEy"
      },
      "source": [
        "def trans_conv2d_bn(x, filters, num_row, num_col, padding='same', strides=(2, 2)):\n",
        "    x = Conv2DTranspose(filters, (num_row, num_col), strides=strides, padding=padding)(x)\n",
        "    x = BatchNormalization(scale=False)(x)\n",
        "    return x"
      ],
      "execution_count": null,
      "outputs": []
    },
    {
      "cell_type": "code",
      "metadata": {
        "id": "iod2ayD9MOvy"
      },
      "source": [
        "def MultiResBlock(U, inp, alpha = 1.67):\n",
        "\n",
        "    W = alpha * U\n",
        "    shortcut = inp\n",
        "\n",
        "    shortcut = conv2d_bn(shortcut, int(W*0.167) + int(W*0.333) +  int(W*0.5), 1, 1, activation=None, padding='same')\n",
        "    conv3x3 = conv2d_bn(inp, int(W*0.167), 3, 3, activation='relu', padding='same')\n",
        "    conv5x5 = conv2d_bn(conv3x3, int(W*0.333), 3, 3, activation='relu', padding='same')\n",
        "    conv7x7 = conv2d_bn(conv5x5, int(W*0.5), 3, 3, activation='relu', padding='same')\n",
        "    out = concatenate([conv3x3, conv5x5, conv7x7], axis=3)\n",
        "    out = BatchNormalization()(out)\n",
        "    out = add([shortcut, out])\n",
        "    out = Activation('relu')(out)\n",
        "    out = BatchNormalization()(out)\n",
        "\n",
        "    return out\n"
      ],
      "execution_count": null,
      "outputs": []
    },
    {
      "cell_type": "code",
      "metadata": {
        "id": "Hx7vud2cMmkT"
      },
      "source": [
        "def ResPath(filters, length, inp):\n",
        "    shortcut = inp\n",
        "    shortcut = conv2d_bn(shortcut, filters, 1, 1, activation=None, padding='same')\n",
        "    out = conv2d_bn(inp, filters, 3, 3, activation='relu', padding='same')\n",
        "    out = add([shortcut, out])\n",
        "    out = Activation('relu')(out)\n",
        "    out = BatchNormalization()(out)\n",
        "\n",
        "    for i in range(length-1):\n",
        "        shortcut = out\n",
        "        shortcut = conv2d_bn(shortcut, filters, 1, 1, activation=None, padding='same')\n",
        "        out = conv2d_bn(out, filters, 3, 3, activation='relu', padding='same')\n",
        "        out = add([shortcut, out])\n",
        "        out = Activation('relu')(out)\n",
        "        out = BatchNormalization()(out)\n",
        "\n",
        "    return out"
      ],
      "execution_count": null,
      "outputs": []
    },
    {
      "cell_type": "code",
      "metadata": {
        "id": "ilO44zK-Mu1s"
      },
      "source": [
        "def MultiResUnet(height, width, n_channels):\n",
        "\n",
        "    inputs = Input((height, width, n_channels))\n",
        "    \n",
        "    mresblock1 = MultiResBlock(32, inputs)\n",
        "    pool1 = MaxPooling2D(pool_size=(2, 2))(mresblock1)\n",
        "    mresblock1 = ResPath(32, 4, mresblock1)\n",
        "\n",
        "    mresblock2 = MultiResBlock(32*2, pool1)\n",
        "    pool2 = MaxPooling2D(pool_size=(2, 2))(mresblock2)\n",
        "    mresblock2 = ResPath(32*2, 3, mresblock2)\n",
        "\n",
        "    mresblock3 = MultiResBlock(32*4, pool2)\n",
        "    pool3 = MaxPooling2D(pool_size=(2, 2))(mresblock3)\n",
        "    mresblock3 = ResPath(32*4, 2, mresblock3)\n",
        "\n",
        "    mresblock4 = MultiResBlock(32*8, pool3)\n",
        "    pool4 = MaxPooling2D(pool_size=(2, 2))(mresblock4)\n",
        "    mresblock4 = ResPath(32*8, 1, mresblock4)\n",
        "\n",
        "    mresblock5 = MultiResBlock(32*16, pool4)\n",
        "\n",
        "    up6 = concatenate([trans_conv2d_bn(mresblock5,32*8, 2, 2), mresblock4])\n",
        "    mresblock6 = MultiResBlock(32*8, up6)\n",
        "\n",
        "    up7 = concatenate([trans_conv2d_bn(mresblock6, 32*4, 2, 2), mresblock3])\n",
        "    mresblock7 = MultiResBlock(32*4, up7)\n",
        "\n",
        "    up8 = concatenate([trans_conv2d_bn(mresblock7, 32*2, 2, 2), mresblock2])\n",
        "    mresblock8 = MultiResBlock(32*2, up8)\n",
        "\n",
        "    up9 = concatenate([trans_conv2d_bn(mresblock8, 32, 2, 2), mresblock1])\n",
        "    mresblock9 = MultiResBlock(32, up9)\n",
        "\n",
        "    conv10 = conv2d_bn(mresblock9, 1, 1, 1, activation='sigmoid')\n",
        "    \n",
        "    \n",
        "    model = Model(inputs=[inputs], outputs=[conv10])\n",
        "\n",
        "                  \n",
        "    return model"
      ],
      "execution_count": null,
      "outputs": []
    },
    {
      "cell_type": "markdown",
      "metadata": {
        "id": "d3RrNp3Q3HgX"
      },
      "source": [
        "####Evaluation Metrics (Dice and Jaccard)"
      ]
    },
    {
      "cell_type": "code",
      "metadata": {
        "id": "7rFV863jSsK5"
      },
      "source": [
        "def dice_coef(y_true, y_pred):\n",
        "    smooth = 1.0\n",
        "    y_true_f = K.flatten(y_true)\n",
        "    y_pred_f = K.flatten(y_pred)\n",
        "    intersection = K.sum(y_true_f * y_pred_f)\n",
        "    return (2. * intersection + smooth) / (K.sum(y_true_f) + K.sum(y_pred_f) + smooth)"
      ],
      "execution_count": null,
      "outputs": []
    },
    {
      "cell_type": "code",
      "metadata": {
        "id": "HZ1knZz8NJfT"
      },
      "source": [
        "def jacard(y_true, y_pred):\n",
        "    y_true_f = K.flatten(y_true)\n",
        "    y_pred_f = K.flatten(y_pred)\n",
        "    intersection = K.sum ( y_true_f * y_pred_f)\n",
        "    union = K.sum ( y_true_f + y_pred_f - y_true_f * y_pred_f)\n",
        "    return intersection/union"
      ],
      "execution_count": null,
      "outputs": []
    },
    {
      "cell_type": "markdown",
      "metadata": {
        "id": "3cu5cwdo3OJ5"
      },
      "source": [
        "####Save Model"
      ]
    },
    {
      "cell_type": "code",
      "metadata": {
        "id": "1AP49k7nPLb-"
      },
      "source": [
        "def saveModel(model):\n",
        "\n",
        "    model_json = model.to_json()\n",
        "\n",
        "    try:\n",
        "        os.makedirs('models')\n",
        "    except:\n",
        "        pass\n",
        "    \n",
        "    fp = open('models/modelP.json','w')\n",
        "    fp.write(model_json)\n",
        "    model.save_weights('models/modelW.h5')"
      ],
      "execution_count": null,
      "outputs": []
    },
    {
      "cell_type": "markdown",
      "metadata": {
        "id": "1R6Ox7U53P_5"
      },
      "source": [
        "####Evaluate Model"
      ]
    },
    {
      "cell_type": "code",
      "metadata": {
        "id": "MsTNGMM0NOxy"
      },
      "source": [
        "def evaluateModel(model, X_test, Y_test, batchSize):\n",
        "    \n",
        "    try:\n",
        "        os.makedirs('results')\n",
        "    except:\n",
        "        pass \n",
        "    \n",
        "\n",
        "    yp = model.predict(x=X_test,batch_size=batchSize, verbose=1)\n",
        "    print('Min : '+ str(np.min(yp)))\n",
        "    print('Max : '+ str(np.max(yp)))\n",
        "    yp = np.round_(yp,0)\n",
        "    print('Unique after rounding : '+ str(np.unique(yp)))\n",
        "    # print(yp)\n",
        "\n",
        "    for i in range(4):\n",
        "        \n",
        "        plt.figure(figsize=(20,4))\n",
        "        plt.subplot(1,3,1)\n",
        "        plt.imshow(X_test[i].reshape(X_test[i].shape[0],X_test[i].shape[1])*255, cmap='gray')\n",
        "        plt.title('Input')\n",
        "        plt.subplot(1,3,2)\n",
        "        plt.imshow(Y_test[i].reshape(Y_test[i].shape[0],Y_test[i].shape[1])*255, cmap='gray')\n",
        "        plt.title('Ground Truth')\n",
        "        plt.subplot(1,3,3)\n",
        "        plt.imshow(yp[i].reshape(yp[i].shape[0],yp[i].shape[1])*255, cmap='gray')\n",
        "        plt.title('Prediction')\n",
        "        intersection1 = yp[i].ravel() * Y_test[i].ravel()\n",
        "        # plt.show()\n",
        "        union1 = yp[i].ravel() + Y_test[i].ravel() - intersection1\n",
        "        # plt.show()\n",
        "\n",
        "        jacard = (np.sum(intersection1)/np.sum(union1))  \n",
        "        plt.suptitle('Jacard Index'+ str(np.sum(intersection1)) +'/'+ str(np.sum(union1)) +'='+str(jacard))\n",
        "\n",
        "        plt.savefig('results/'+str(i)+'.png',format='png')\n",
        "        plt.show()\n",
        "\n",
        "        plt.close()\n",
        "\n",
        "\n",
        "    jacard = 0\n",
        "    dice = 0\n",
        "    \n",
        "    \n",
        "    for i in range(len(Y_test)):\n",
        "        yp_2 = yp[i].ravel()\n",
        "        y2 = Y_test[i].ravel()\n",
        "        \n",
        "        intersection = yp_2 * y2\n",
        "        union = yp_2 + y2 - intersection\n",
        "\n",
        "        jacard += (np.sum(intersection)/np.sum(union))  \n",
        "\n",
        "        dice += (2. * np.sum(intersection) + 1) / (np.sum(yp_2) + np.sum(y2) + 1)\n",
        "\n",
        "    \n",
        "    jacard /= len(Y_test)\n",
        "    dice /= len(Y_test)\n",
        "    \n",
        "\n",
        "\n",
        "    print('Jacard Index : '+str(jacard))\n",
        "    print('Dice Coefficient : '+str(dice))\n",
        "    \n",
        "\n",
        "    fp = open('models/log.txt','a')\n",
        "    fp.write(str(jacard)+'\\n')\n",
        "    fp.close()\n",
        "\n",
        "    fp = open('models/best.txt','r')\n",
        "    best = fp.read()\n",
        "    fp.close()\n",
        "\n",
        "    if(jacard>float(best)):\n",
        "        print('***********************************************')\n",
        "        print('Jacard Index improved from '+str(best)+' to '+str(jacard))\n",
        "        print('***********************************************')\n",
        "        fp = open('models/best.txt','w')\n",
        "        fp.write(str(jacard))\n",
        "        fp.close()\n",
        "\n",
        "        saveModel(model)"
      ],
      "execution_count": null,
      "outputs": []
    },
    {
      "cell_type": "markdown",
      "metadata": {
        "id": "5xpjKoyX3Ux8"
      },
      "source": [
        "####Training"
      ]
    },
    {
      "cell_type": "code",
      "metadata": {
        "id": "uEbnKM8qN4c2"
      },
      "source": [
        "def trainStep(model, X_train, Y_train, X_test, Y_test, epochs, batchSize):\n",
        "\n",
        "    for epoch in range(epochs):\n",
        "      print('Epoch : {}'.format(epoch+1))\n",
        "      model.fit(X_train, Y_train, epochs=1, verbose=1, batch_size=batchSize)     \n",
        "      evaluateModel(model,X_test, Y_test, batchSize)\n",
        "    return model"
      ],
      "execution_count": null,
      "outputs": []
    },
    {
      "cell_type": "markdown",
      "metadata": {
        "id": "_YGKFqtfnQLK"
      },
      "source": [
        "##UNet++"
      ]
    },
    {
      "cell_type": "code",
      "metadata": {
        "id": "Zhh1ToQHnCrG"
      },
      "source": [
        "from tensorflow.keras.layers import Conv2D, MaxPool2D, Dense, Concatenate, UpSampling2D, Input\n",
        "import random\n",
        "from tensorflow.keras.layers import concatenate\n",
        "from tensorflow.keras.regularizers import l2\n",
        "from tensorflow.keras.layers import *"
      ],
      "execution_count": null,
      "outputs": []
    },
    {
      "cell_type": "code",
      "metadata": {
        "id": "5w92t9G5FJ-c"
      },
      "source": [
        "\n",
        "dropout_rate = 0.5\n",
        "act = \"relu\"\n",
        "\n",
        "def standard_unit(input_tensor, nb_filter, kernel_size=3):\n",
        "\n",
        "    x = Conv2D(nb_filter, (kernel_size, kernel_size), activation=act, kernel_initializer = 'he_normal', padding='same', kernel_regularizer=l2(1e-4))(input_tensor)\n",
        "    x = Dropout(dropout_rate)(x)\n",
        "    x = Conv2D(nb_filter, (kernel_size, kernel_size), activation=act, kernel_initializer = 'he_normal', padding='same', kernel_regularizer=l2(1e-4))(x)\n",
        "    x = Dropout(dropout_rate)(x)\n",
        "\n",
        "    return x\n",
        "\n",
        "def UNetPlusPlus(input_size):\n",
        "\n",
        "    nb_filter = [32,64,128,256,512]\n",
        "\n",
        "    img_input = Input(input_size)\n",
        "\n",
        "\n",
        "\n",
        "    conv1_1 = standard_unit(img_input, nb_filter=nb_filter[0])\n",
        "    pool1 = MaxPooling2D(pool_size=(2, 2))(conv1_1)\n",
        "\n",
        "    conv2_1 = standard_unit(pool1,nb_filter=nb_filter[1])\n",
        "    pool2 = MaxPooling2D(pool_size=(2, 2))(conv2_1)\n",
        "\n",
        "    up1_2 = Conv2DTranspose(nb_filter[0], (2, 2), strides=(2, 2), padding='same')(conv2_1)\n",
        "    conv1_2 = concatenate([up1_2, conv1_1])\n",
        "    conv1_2 = standard_unit(conv1_2, nb_filter=nb_filter[0])\n",
        "\n",
        "    conv3_1 = standard_unit(pool2, nb_filter=nb_filter[2])\n",
        "    pool3 = MaxPooling2D(pool_size=(2, 2))(conv3_1)\n",
        "\n",
        "    up2_2 = Conv2DTranspose(nb_filter[1], (2, 2), strides=(2, 2), padding='same')(conv3_1)\n",
        "    conv2_2 = concatenate([up2_2, conv2_1])\n",
        "    conv2_2 = standard_unit(conv2_2, nb_filter=nb_filter[1])\n",
        "\n",
        "    up1_3 = Conv2DTranspose(nb_filter[0], (2, 2), strides=(2, 2), padding='same')(conv2_2)\n",
        "    conv1_3 = concatenate([up1_3, conv1_1, conv1_2])\n",
        "    conv1_3 = standard_unit(conv1_3, nb_filter=nb_filter[0])\n",
        "\n",
        "    conv4_1 = standard_unit(pool3, nb_filter=nb_filter[3])\n",
        "    pool4 = MaxPooling2D(pool_size=(2, 2))(conv4_1)\n",
        "\n",
        "    up3_2 = Conv2DTranspose(nb_filter[2], (2, 2), strides=(2, 2), padding='same')(conv4_1)\n",
        "    conv3_2 = concatenate([up3_2, conv3_1])\n",
        "    conv3_2 = standard_unit(conv3_2, nb_filter=nb_filter[2])\n",
        "\n",
        "    up2_3 = Conv2DTranspose(nb_filter[1], (2, 2), strides=(2, 2), padding='same')(conv3_2)\n",
        "    conv2_3 = concatenate([up2_3, conv2_1, conv2_2])\n",
        "    conv2_3 = standard_unit(conv2_3, nb_filter=nb_filter[1])\n",
        "\n",
        "    up1_4 = Conv2DTranspose(nb_filter[0], (2, 2), strides=(2, 2), padding='same')(conv2_3)\n",
        "    conv1_4 = concatenate([up1_4, conv1_1, conv1_2, conv1_3])\n",
        "    conv1_4 = standard_unit(conv1_4, nb_filter=nb_filter[0])\n",
        "\n",
        "    conv5_1 = standard_unit(pool4, nb_filter=nb_filter[4])\n",
        "\n",
        "    up4_2 = Conv2DTranspose(nb_filter[3], (2, 2), strides=(2, 2), padding='same')(conv5_1)\n",
        "    conv4_2 = concatenate([up4_2, conv4_1])\n",
        "    conv4_2 = standard_unit(conv4_2, nb_filter=nb_filter[3])\n",
        "\n",
        "    up3_3 = Conv2DTranspose(nb_filter[2], (2, 2), strides=(2, 2), padding='same')(conv4_2)\n",
        "    conv3_3 = concatenate([up3_3, conv3_1, conv3_2])\n",
        "    conv3_3 = standard_unit(conv3_3, nb_filter=nb_filter[2])\n",
        "\n",
        "    up2_4 = Conv2DTranspose(nb_filter[1], (2, 2), strides=(2, 2), padding='same')(conv3_3)\n",
        "    conv2_4 = concatenate([up2_4, conv2_1, conv2_2, conv2_3])\n",
        "    conv2_4 = standard_unit(conv2_4, nb_filter=nb_filter[1])\n",
        "\n",
        "    up1_5 = Conv2DTranspose(nb_filter[0], (2, 2), strides=(2, 2), padding='same')(conv2_4)\n",
        "    conv1_5 = concatenate([up1_5, conv1_1, conv1_2, conv1_3, conv1_4])\n",
        "    conv1_5 = standard_unit(conv1_5, nb_filter=nb_filter[0])\n",
        "\n",
        "    nestnet_output_4 = Conv2D(1, (1, 1), activation='sigmoid', kernel_initializer = 'he_normal', padding='same', kernel_regularizer=l2(1e-4))(conv1_5)\n",
        " \n",
        "    model = Model(inputs=img_input, outputs=[nestnet_output_4])\n",
        "\n",
        "    return model\n"
      ],
      "execution_count": null,
      "outputs": []
    },
    {
      "cell_type": "markdown",
      "metadata": {
        "id": "dFaaHjeM3fbO"
      },
      "source": [
        "##UNet"
      ]
    },
    {
      "cell_type": "code",
      "metadata": {
        "id": "Jwp3pGw8nFT4"
      },
      "source": [
        "from tensorflow.keras.layers import Conv2D, BatchNormalization, Activation, MaxPool2D, Conv2DTranspose, Concatenate, Input\n",
        "from tensorflow.keras.models import Model\n",
        "\n",
        "def conv_block(inputs, num_filters):\n",
        "    x = Conv2D(num_filters, 3, padding=\"same\")(inputs)\n",
        "    x = Activation(\"relu\")(x)\n",
        "\n",
        "    x = Conv2D(num_filters, 3, padding=\"same\")(x)\n",
        "    x = Activation(\"relu\")(x)\n",
        "\n",
        "    return x\n",
        "\n",
        "def encoder_block(inputs, num_filters):\n",
        "    x = conv_block(inputs, num_filters)\n",
        "    p = MaxPool2D((2, 2))(x)\n",
        "    return x, p\n",
        "\n",
        "def decoder_block(inputs, skip_features, num_filters):\n",
        "    x = Conv2DTranspose(num_filters, (2, 2), strides=2, padding=\"same\")(inputs)\n",
        "    x = Concatenate()([x, skip_features])\n",
        "    x = conv_block(x, num_filters)\n",
        "    return x\n",
        "\n",
        "def build_unet(input_shape):\n",
        "    inputs = Input(input_shape)\n",
        "\n",
        "    \"\"\" Encoder \"\"\"\n",
        "    s1, p1 = encoder_block(inputs, 64)\n",
        "    s2, p2 = encoder_block(p1, 128)\n",
        "    s3, p3 = encoder_block(p2, 256)\n",
        "    s4, p4 = encoder_block(p3, 512)\n",
        "\n",
        "    \"\"\" Bridge \"\"\"\n",
        "    b1 = conv_block(p4, 1024)\n",
        "\n",
        "    \"\"\" Decoder \"\"\"\n",
        "    d1 = decoder_block(b1, s4, 512)\n",
        "    d2 = decoder_block(d1, s3, 256)\n",
        "    d3 = decoder_block(d2, s2, 128)\n",
        "    d4 = decoder_block(d3, s1, 64)\n",
        "\n",
        "    \"\"\" Outputs \"\"\"\n",
        "    outputs = Conv2D(1, 1, padding=\"same\", activation=\"sigmoid\")(d4)\n",
        "\n",
        "    \"\"\" Model \"\"\"\n",
        "    model = Model(inputs, outputs)\n",
        "    return model"
      ],
      "execution_count": null,
      "outputs": []
    },
    {
      "cell_type": "markdown",
      "metadata": {
        "id": "jzLNzuEU3ib1"
      },
      "source": [
        "##Models"
      ]
    },
    {
      "cell_type": "code",
      "metadata": {
        "id": "qBbN5Qm14lPn"
      },
      "source": [
        "# model = UNetPlusPlus((256,256,1))\n",
        "# model.compile(optimizer='adam', loss='binary_crossentropy', metrics=[dice_coef, jacard, 'accuracy'])\n",
        "\n",
        "# saveModel(model)\n",
        "# model.summary()   "
      ],
      "execution_count": null,
      "outputs": []
    },
    {
      "cell_type": "code",
      "metadata": {
        "id": "SqUAYR0d0P3V"
      },
      "source": [
        "# model = MultiResUnet(height=256, width=256, n_channels=1)\n",
        "# model.compile(optimizer='adam', loss='binary_crossentropy', metrics=[dice_coef, jacard, 'accuracy'])\n",
        "\n",
        "# saveModel(model)\n",
        "# model.summary()   "
      ],
      "execution_count": null,
      "outputs": []
    },
    {
      "cell_type": "code",
      "metadata": {
        "id": "EHYwOSWUnGq8",
        "colab": {
          "base_uri": "https://localhost:8080/"
        },
        "outputId": "fac90b4b-54d1-44cc-d9c6-bfe614444d22"
      },
      "source": [
        "model = build_unet((256,256,1))\n",
        "model.compile(optimizer=\"adam\", loss=\"binary_crossentropy\", metrics=[dice_coef, jacard, 'accuracy'])\n",
        "saveModel(model)\n",
        "model.summary()      "
      ],
      "execution_count": null,
      "outputs": [
        {
          "output_type": "stream",
          "text": [
            "Model: \"model\"\n",
            "__________________________________________________________________________________________________\n",
            "Layer (type)                    Output Shape         Param #     Connected to                     \n",
            "==================================================================================================\n",
            "input_1 (InputLayer)            [(None, 256, 256, 1) 0                                            \n",
            "__________________________________________________________________________________________________\n",
            "conv2d (Conv2D)                 (None, 256, 256, 64) 640         input_1[0][0]                    \n",
            "__________________________________________________________________________________________________\n",
            "activation (Activation)         (None, 256, 256, 64) 0           conv2d[0][0]                     \n",
            "__________________________________________________________________________________________________\n",
            "conv2d_1 (Conv2D)               (None, 256, 256, 64) 36928       activation[0][0]                 \n",
            "__________________________________________________________________________________________________\n",
            "activation_1 (Activation)       (None, 256, 256, 64) 0           conv2d_1[0][0]                   \n",
            "__________________________________________________________________________________________________\n",
            "max_pooling2d (MaxPooling2D)    (None, 128, 128, 64) 0           activation_1[0][0]               \n",
            "__________________________________________________________________________________________________\n",
            "conv2d_2 (Conv2D)               (None, 128, 128, 128 73856       max_pooling2d[0][0]              \n",
            "__________________________________________________________________________________________________\n",
            "activation_2 (Activation)       (None, 128, 128, 128 0           conv2d_2[0][0]                   \n",
            "__________________________________________________________________________________________________\n",
            "conv2d_3 (Conv2D)               (None, 128, 128, 128 147584      activation_2[0][0]               \n",
            "__________________________________________________________________________________________________\n",
            "activation_3 (Activation)       (None, 128, 128, 128 0           conv2d_3[0][0]                   \n",
            "__________________________________________________________________________________________________\n",
            "max_pooling2d_1 (MaxPooling2D)  (None, 64, 64, 128)  0           activation_3[0][0]               \n",
            "__________________________________________________________________________________________________\n",
            "conv2d_4 (Conv2D)               (None, 64, 64, 256)  295168      max_pooling2d_1[0][0]            \n",
            "__________________________________________________________________________________________________\n",
            "activation_4 (Activation)       (None, 64, 64, 256)  0           conv2d_4[0][0]                   \n",
            "__________________________________________________________________________________________________\n",
            "conv2d_5 (Conv2D)               (None, 64, 64, 256)  590080      activation_4[0][0]               \n",
            "__________________________________________________________________________________________________\n",
            "activation_5 (Activation)       (None, 64, 64, 256)  0           conv2d_5[0][0]                   \n",
            "__________________________________________________________________________________________________\n",
            "max_pooling2d_2 (MaxPooling2D)  (None, 32, 32, 256)  0           activation_5[0][0]               \n",
            "__________________________________________________________________________________________________\n",
            "conv2d_6 (Conv2D)               (None, 32, 32, 512)  1180160     max_pooling2d_2[0][0]            \n",
            "__________________________________________________________________________________________________\n",
            "activation_6 (Activation)       (None, 32, 32, 512)  0           conv2d_6[0][0]                   \n",
            "__________________________________________________________________________________________________\n",
            "conv2d_7 (Conv2D)               (None, 32, 32, 512)  2359808     activation_6[0][0]               \n",
            "__________________________________________________________________________________________________\n",
            "activation_7 (Activation)       (None, 32, 32, 512)  0           conv2d_7[0][0]                   \n",
            "__________________________________________________________________________________________________\n",
            "max_pooling2d_3 (MaxPooling2D)  (None, 16, 16, 512)  0           activation_7[0][0]               \n",
            "__________________________________________________________________________________________________\n",
            "conv2d_8 (Conv2D)               (None, 16, 16, 1024) 4719616     max_pooling2d_3[0][0]            \n",
            "__________________________________________________________________________________________________\n",
            "activation_8 (Activation)       (None, 16, 16, 1024) 0           conv2d_8[0][0]                   \n",
            "__________________________________________________________________________________________________\n",
            "conv2d_9 (Conv2D)               (None, 16, 16, 1024) 9438208     activation_8[0][0]               \n",
            "__________________________________________________________________________________________________\n",
            "activation_9 (Activation)       (None, 16, 16, 1024) 0           conv2d_9[0][0]                   \n",
            "__________________________________________________________________________________________________\n",
            "conv2d_transpose (Conv2DTranspo (None, 32, 32, 512)  2097664     activation_9[0][0]               \n",
            "__________________________________________________________________________________________________\n",
            "concatenate (Concatenate)       (None, 32, 32, 1024) 0           conv2d_transpose[0][0]           \n",
            "                                                                 activation_7[0][0]               \n",
            "__________________________________________________________________________________________________\n",
            "conv2d_10 (Conv2D)              (None, 32, 32, 512)  4719104     concatenate[0][0]                \n",
            "__________________________________________________________________________________________________\n",
            "activation_10 (Activation)      (None, 32, 32, 512)  0           conv2d_10[0][0]                  \n",
            "__________________________________________________________________________________________________\n",
            "conv2d_11 (Conv2D)              (None, 32, 32, 512)  2359808     activation_10[0][0]              \n",
            "__________________________________________________________________________________________________\n",
            "activation_11 (Activation)      (None, 32, 32, 512)  0           conv2d_11[0][0]                  \n",
            "__________________________________________________________________________________________________\n",
            "conv2d_transpose_1 (Conv2DTrans (None, 64, 64, 256)  524544      activation_11[0][0]              \n",
            "__________________________________________________________________________________________________\n",
            "concatenate_1 (Concatenate)     (None, 64, 64, 512)  0           conv2d_transpose_1[0][0]         \n",
            "                                                                 activation_5[0][0]               \n",
            "__________________________________________________________________________________________________\n",
            "conv2d_12 (Conv2D)              (None, 64, 64, 256)  1179904     concatenate_1[0][0]              \n",
            "__________________________________________________________________________________________________\n",
            "activation_12 (Activation)      (None, 64, 64, 256)  0           conv2d_12[0][0]                  \n",
            "__________________________________________________________________________________________________\n",
            "conv2d_13 (Conv2D)              (None, 64, 64, 256)  590080      activation_12[0][0]              \n",
            "__________________________________________________________________________________________________\n",
            "activation_13 (Activation)      (None, 64, 64, 256)  0           conv2d_13[0][0]                  \n",
            "__________________________________________________________________________________________________\n",
            "conv2d_transpose_2 (Conv2DTrans (None, 128, 128, 128 131200      activation_13[0][0]              \n",
            "__________________________________________________________________________________________________\n",
            "concatenate_2 (Concatenate)     (None, 128, 128, 256 0           conv2d_transpose_2[0][0]         \n",
            "                                                                 activation_3[0][0]               \n",
            "__________________________________________________________________________________________________\n",
            "conv2d_14 (Conv2D)              (None, 128, 128, 128 295040      concatenate_2[0][0]              \n",
            "__________________________________________________________________________________________________\n",
            "activation_14 (Activation)      (None, 128, 128, 128 0           conv2d_14[0][0]                  \n",
            "__________________________________________________________________________________________________\n",
            "conv2d_15 (Conv2D)              (None, 128, 128, 128 147584      activation_14[0][0]              \n",
            "__________________________________________________________________________________________________\n",
            "activation_15 (Activation)      (None, 128, 128, 128 0           conv2d_15[0][0]                  \n",
            "__________________________________________________________________________________________________\n",
            "conv2d_transpose_3 (Conv2DTrans (None, 256, 256, 64) 32832       activation_15[0][0]              \n",
            "__________________________________________________________________________________________________\n",
            "concatenate_3 (Concatenate)     (None, 256, 256, 128 0           conv2d_transpose_3[0][0]         \n",
            "                                                                 activation_1[0][0]               \n",
            "__________________________________________________________________________________________________\n",
            "conv2d_16 (Conv2D)              (None, 256, 256, 64) 73792       concatenate_3[0][0]              \n",
            "__________________________________________________________________________________________________\n",
            "activation_16 (Activation)      (None, 256, 256, 64) 0           conv2d_16[0][0]                  \n",
            "__________________________________________________________________________________________________\n",
            "conv2d_17 (Conv2D)              (None, 256, 256, 64) 36928       activation_16[0][0]              \n",
            "__________________________________________________________________________________________________\n",
            "activation_17 (Activation)      (None, 256, 256, 64) 0           conv2d_17[0][0]                  \n",
            "__________________________________________________________________________________________________\n",
            "conv2d_18 (Conv2D)              (None, 256, 256, 1)  65          activation_17[0][0]              \n",
            "==================================================================================================\n",
            "Total params: 31,030,593\n",
            "Trainable params: 31,030,593\n",
            "Non-trainable params: 0\n",
            "__________________________________________________________________________________________________\n"
          ],
          "name": "stdout"
        }
      ]
    },
    {
      "cell_type": "code",
      "metadata": {
        "id": "ly3egaA5nIWw"
      },
      "source": [
        "fp = open('models/log.txt','w')\n",
        "fp.close()\n",
        "fp = open('models/best.txt','w')\n",
        "fp.write('-1.0')\n",
        "fp.close()"
      ],
      "execution_count": null,
      "outputs": []
    },
    {
      "cell_type": "code",
      "metadata": {
        "id": "HMNN-bpSnJ18"
      },
      "source": [
        "with tf.device('/device:GPU:0'):\n",
        "  trainStep(model , X_train, Y_train, X_test, Y_test, epochs=250, batchSize = 10 )"
      ],
      "execution_count": null,
      "outputs": []
    }
  ]
}